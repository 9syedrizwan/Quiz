{
  "nbformat": 4,
  "nbformat_minor": 0,
  "metadata": {
    "colab": {
      "name": "Untitled0.ipynb",
      "provenance": []
    },
    "kernelspec": {
      "name": "python3",
      "display_name": "Python 3"
    },
    "language_info": {
      "name": "python"
    }
  },
  "cells": [
    {
      "cell_type": "code",
      "execution_count": 32,
      "metadata": {
        "colab": {
          "base_uri": "https://localhost:8080/"
        },
        "id": "m5V7l-A5b6RE",
        "outputId": "67c99de9-0a40-4782-de01-064341194c1f"
      },
      "outputs": [
        {
          "output_type": "stream",
          "name": "stdout",
          "text": [
            "Enter 5 numbers: \n",
            "Enter any number : 2\n",
            "Enter any number : 3\n",
            "Enter any number : 4\n",
            "Enter any number : 5\n",
            "Enter any number : 6\n",
            "\n",
            "Odd Numbers: \n",
            "3\n",
            "5\n"
          ]
        }
      ],
      "source": [
        "#Q1:Python program to print all odd numbers in a list?\n",
        "numbers = []\n",
        "print(\"Enter 5 numbers: \")\n",
        "for i in range(5):\n",
        "  numbers.append(int(input(\"Enter any number : \")))\n",
        "print(\"\\nOdd Numbers: \")\n",
        "for i in range(5):\n",
        "  if numbers[i]%2!=0:\n",
        "    print(numbers[i])"
      ]
    },
    {
      "cell_type": "code",
      "source": [
        "#Q2:Python program to find the sum of list elements?\n",
        "number=[]\n",
        "print(\"Enter 5 numbers : \")\n",
        "for i in range(5):\n",
        "  number.append(int(input(\"Enter any number : \")))\n",
        "print(\"\\nSum is : \")\n",
        "sum(number)"
      ],
      "metadata": {
        "colab": {
          "base_uri": "https://localhost:8080/"
        },
        "id": "M8efnrFLcgEw",
        "outputId": "c25641e2-8765-46a9-eb37-d471825615e1"
      },
      "execution_count": 34,
      "outputs": [
        {
          "output_type": "stream",
          "name": "stdout",
          "text": [
            "Enter 5 numbers : \n",
            "Enter any number : 2\n",
            "Enter any number : 3\n",
            "Enter any number : 4\n",
            "Enter any number : 5\n",
            "Enter any number : 6\n",
            "\n",
            "Sum is : \n"
          ]
        },
        {
          "output_type": "execute_result",
          "data": {
            "text/plain": [
              "20"
            ]
          },
          "metadata": {},
          "execution_count": 34
        }
      ]
    },
    {
      "cell_type": "code",
      "source": [
        "#Q3:Python program to reverse a list in two ways?\n",
        "no=[]\n",
        "print(\"Enter 5 numbers : \")\n",
        "for i in range(5):\n",
        "  no.append(int(input(\"Enter any numbers : \")))\n",
        "print(no[-1::-1])\n",
        "no.reverse()\n",
        "print(\"reverse\",no)"
      ],
      "metadata": {
        "colab": {
          "base_uri": "https://localhost:8080/"
        },
        "id": "DEd5B4CcesXB",
        "outputId": "a7ba7a61-0918-416c-c5f8-c16cdbdde8f4"
      },
      "execution_count": 43,
      "outputs": [
        {
          "output_type": "stream",
          "name": "stdout",
          "text": [
            "Enter 5 numbers : \n",
            "Enter any numbers : 2\n",
            "Enter any numbers : 3\n",
            "Enter any numbers : 4\n",
            "Enter any numbers : 5\n",
            "Enter any numbers : 6\n",
            "[6, 5, 4, 3, 2]\n",
            "reverse [6, 5, 4, 3, 2]\n"
          ]
        }
      ]
    },
    {
      "cell_type": "code",
      "source": [
        "#Q4:Python program to find the top two maximun numbers in a list?\n",
        "no=[]\n",
        "print(\"Enter 5 numbers : \")\n",
        "for i in range(5):\n",
        "  no.append(int(input(\"Enter any numbers : \")))\n",
        "no.sort()\n",
        "print(no[-1:-3:-1])"
      ],
      "metadata": {
        "colab": {
          "base_uri": "https://localhost:8080/"
        },
        "id": "ltCkBa4NfIoi",
        "outputId": "3b85e489-835e-48f0-834e-850becf9f9b7"
      },
      "execution_count": 59,
      "outputs": [
        {
          "output_type": "stream",
          "name": "stdout",
          "text": [
            "Enter 5 numbers : \n",
            "Enter any numbers : 1\n",
            "Enter any numbers : 5\n",
            "Enter any numbers : 4\n",
            "Enter any numbers : 6\n",
            "Enter any numbers : 7\n",
            "[7, 6]\n"
          ]
        }
      ]
    },
    {
      "cell_type": "code",
      "source": [
        "#Q5:Write a program in Python to find the second highest number in an integer list?\n",
        "numb=[]\n",
        "print(\"Enter 5 numbers : \")\n",
        "for i in range(5):\n",
        "  numb.append(int(input(\"enter any number : \")))\n",
        "  numb.sort()\n",
        "print(\"\\nSort list is  : \",numb)\n",
        "print(\"\\nSecond highest number is : \",numb[-2])"
      ],
      "metadata": {
        "colab": {
          "base_uri": "https://localhost:8080/"
        },
        "id": "zKgT4TV1ferC",
        "outputId": "978e234c-9129-4f76-c7f2-8327cbbb8145"
      },
      "execution_count": 51,
      "outputs": [
        {
          "output_type": "stream",
          "name": "stdout",
          "text": [
            "Enter 5 numbers : \n",
            "enter anu number : 5\n",
            "enter anu number : 4\n",
            "enter anu number : 1\n",
            "enter anu number : 9\n",
            "enter anu number : 2\n",
            "\n",
            "Sort list is  :  [1, 2, 4, 5, 9]\n",
            "\n",
            "Second highest number is :  5\n"
          ]
        }
      ]
    },
    {
      "cell_type": "code",
      "source": [
        "#Q6:Python program to sort characters in descending?\n",
        "numbe=[]\n",
        "print(\"enter 5 number : \")\n",
        "for i in range(5):\n",
        "  numbe.append(input(\"Enter 5 number : \"))\n",
        "print(\"\\nSort in descending is : \")\n",
        "numbe.sort()\n",
        "print(numbe)"
      ],
      "metadata": {
        "colab": {
          "base_uri": "https://localhost:8080/"
        },
        "id": "7uAj5ylkf4w5",
        "outputId": "dea68ac0-97a7-4621-bdef-2a8bd8d455ef"
      },
      "execution_count": 58,
      "outputs": [
        {
          "output_type": "stream",
          "name": "stdout",
          "text": [
            "enter 5 number : \n",
            "Enter 5 number : w\n",
            "Enter 5 number : g\n",
            "Enter 5 number : c\n",
            "Enter 5 number : a\n",
            "Enter 5 number : d\n",
            "\n",
            "Sort in descending is : \n",
            "['a', 'c', 'd', 'g', 'w']\n"
          ]
        }
      ]
    },
    {
      "cell_type": "code",
      "source": [
        "#Q7:Python program to remove repeated characters from a list?\n",
        "char_list=['z','r','a','z','x','b','z','a','f','f','f','x','t','t','o','p','a','b','v','e','q','p','c','x']\n",
        "chars=[]\n",
        "for i in char_list:\n",
        "    if i not in chars:\n",
        "        chars.append(i)\n",
        "chars.sort()\n",
        "print(chars)"
      ],
      "metadata": {
        "colab": {
          "base_uri": "https://localhost:8080/"
        },
        "id": "Bj-uzax0niht",
        "outputId": "65b2feba-83a3-40bb-f184-a5ee94e21d19"
      },
      "execution_count": 70,
      "outputs": [
        {
          "output_type": "stream",
          "name": "stdout",
          "text": [
            "['a', 'b', 'c', 'e', 'f', 'o', 'p', 'q', 'r', 't', 'v', 'x', 'z']\n"
          ]
        }
      ]
    },
    {
      "cell_type": "code",
      "source": [
        "#Q8:Python program to check if a given number is vowel or consonant?\n",
        "ch = input(\"Enter a character: \")\n",
        "if(ch=='A' or ch=='a' or ch=='E' or ch =='e' or ch=='I'or ch=='i' or ch=='O' or ch=='o' or ch=='U' or ch=='u'):\n",
        "    print(ch, \"is a Vowel\")\n",
        "else:\n",
        "  print(ch,\"is a consonant\")"
      ],
      "metadata": {
        "colab": {
          "base_uri": "https://localhost:8080/"
        },
        "id": "Cee_ry_CxA-G",
        "outputId": "021a5b82-9f8c-4c72-9e70-e46d3586b66c"
      },
      "execution_count": 72,
      "outputs": [
        {
          "output_type": "stream",
          "name": "stdout",
          "text": [
            "Enter a character: a\n",
            "a is a Vowel\n"
          ]
        }
      ]
    },
    {
      "cell_type": "code",
      "source": [
        "#Q9:Python program to calculate factorial?\n",
        "n = int(input(\"Enter any number\"))\n",
        "fact = 1\n",
        "for i in range(1,n+1):\n",
        "    fact = fact * i\n",
        "print (\"The factorial of given number is : \",end=\"\")\n",
        "print (fact)"
      ],
      "metadata": {
        "colab": {
          "base_uri": "https://localhost:8080/"
        },
        "id": "WawSbmsou25Q",
        "outputId": "fe876c87-e5d4-4c2a-ed04-9b5d42508ed2"
      },
      "execution_count": 71,
      "outputs": [
        {
          "output_type": "stream",
          "name": "stdout",
          "text": [
            "Enter any number8\n",
            "The factorial of given number is : 40320\n"
          ]
        }
      ]
    },
    {
      "cell_type": "code",
      "source": [
        "#Q10:Python program to merge two lists?\n",
        "a=[1,2,3,4,5]\n",
        "b=['a','b','c','d','e']\n",
        "print(a+b)"
      ],
      "metadata": {
        "colab": {
          "base_uri": "https://localhost:8080/"
        },
        "id": "MWu1VOEevFg4",
        "outputId": "d4057593-7520-4a81-e001-20068b2be482"
      },
      "execution_count": 67,
      "outputs": [
        {
          "output_type": "stream",
          "name": "stdout",
          "text": [
            "[1, 2, 3, 4, 5, 'a', 'b', 'c', 'd', 'e']\n"
          ]
        }
      ]
    }
  ]
}